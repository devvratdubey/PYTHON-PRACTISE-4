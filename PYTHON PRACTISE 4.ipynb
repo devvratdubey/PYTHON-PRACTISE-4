{
 "cells": [
  {
   "cell_type": "code",
   "execution_count": 63,
   "id": "bbbf7d44",
   "metadata": {},
   "outputs": [],
   "source": [
    "class Person:\n",
    "    def __init__(self,name,age,gender):\n",
    "        self.name=name\n",
    "        self.age=age\n",
    "        self.gender=gender\n",
    "    def __str__(self):\n",
    "        return f\"{self.name,self.age,self.gender}\""
   ]
  },
  {
   "cell_type": "code",
   "execution_count": 64,
   "id": "c348fba8",
   "metadata": {},
   "outputs": [],
   "source": [
    "p1=Person(\"devvrat\",24,\"male\")"
   ]
  },
  {
   "cell_type": "code",
   "execution_count": 65,
   "id": "7e9c66dd",
   "metadata": {},
   "outputs": [
    {
     "data": {
      "text/plain": [
       "'devvrat'"
      ]
     },
     "execution_count": 65,
     "metadata": {},
     "output_type": "execute_result"
    }
   ],
   "source": [
    "p1.name"
   ]
  },
  {
   "cell_type": "code",
   "execution_count": 66,
   "id": "89855768",
   "metadata": {},
   "outputs": [
    {
     "data": {
      "text/plain": [
       "24"
      ]
     },
     "execution_count": 66,
     "metadata": {},
     "output_type": "execute_result"
    }
   ],
   "source": [
    "p1.age"
   ]
  },
  {
   "cell_type": "code",
   "execution_count": 67,
   "id": "0c01a231",
   "metadata": {},
   "outputs": [
    {
     "data": {
      "text/plain": [
       "'male'"
      ]
     },
     "execution_count": 67,
     "metadata": {},
     "output_type": "execute_result"
    }
   ],
   "source": [
    "p1.gender"
   ]
  },
  {
   "cell_type": "code",
   "execution_count": 68,
   "id": "9dbee060",
   "metadata": {},
   "outputs": [
    {
     "name": "stdout",
     "output_type": "stream",
     "text": [
      "('devvrat', 24, 'male')\n"
     ]
    }
   ],
   "source": [
    "print(p1)"
   ]
  },
  {
   "cell_type": "markdown",
   "id": "8837776f",
   "metadata": {},
   "source": [
    "#Q2"
   ]
  },
  {
   "cell_type": "code",
   "execution_count": 69,
   "id": "247002f3",
   "metadata": {},
   "outputs": [],
   "source": [
    "class Rectangle:\n",
    "    def __init__(self,width,height):\n",
    "        self.width=width\n",
    "        self.height=height\n",
    "    def area(self):\n",
    "        return self.width*self.height\n",
    "    def perimeter(self):\n",
    "        return 2*(self.width+self.height)"
   ]
  },
  {
   "cell_type": "code",
   "execution_count": 71,
   "id": "7d8828c7",
   "metadata": {},
   "outputs": [],
   "source": [
    "r=Rectangle(5,2)"
   ]
  },
  {
   "cell_type": "code",
   "execution_count": 72,
   "id": "7a1e2f31",
   "metadata": {},
   "outputs": [
    {
     "data": {
      "text/plain": [
       "10"
      ]
     },
     "execution_count": 72,
     "metadata": {},
     "output_type": "execute_result"
    }
   ],
   "source": [
    "r.area()"
   ]
  },
  {
   "cell_type": "code",
   "execution_count": 73,
   "id": "09990cf9",
   "metadata": {},
   "outputs": [
    {
     "data": {
      "text/plain": [
       "2"
      ]
     },
     "execution_count": 73,
     "metadata": {},
     "output_type": "execute_result"
    }
   ],
   "source": [
    "r.height"
   ]
  },
  {
   "cell_type": "code",
   "execution_count": 74,
   "id": "9de5114d",
   "metadata": {},
   "outputs": [
    {
     "data": {
      "text/plain": [
       "14"
      ]
     },
     "execution_count": 74,
     "metadata": {},
     "output_type": "execute_result"
    }
   ],
   "source": [
    "r.perimeter()"
   ]
  },
  {
   "cell_type": "markdown",
   "id": "93b9ac6d",
   "metadata": {},
   "source": [
    "#Q3"
   ]
  },
  {
   "cell_type": "code",
   "execution_count": 83,
   "id": "34b78fb1",
   "metadata": {},
   "outputs": [],
   "source": [
    "class bankaccount:\n",
    "    def __init__(self,balance,interestrate):\n",
    "        self.__balance=balance\n",
    "        self.__interest=interestrate\n",
    "    def withdrawl(self,amount):\n",
    "        if amount<=self.__balance:\n",
    "            self.__balance=self.__balance-amount\n",
    "            print(\"Transcation sucessfully\")\n",
    "        else:\n",
    "            print(\"insufficient funds\")\n",
    "    def deposit(self,amount):\n",
    "        self.__balance=self.__balance+amount\n",
    "        print(\"Deposited Sucessfully\")\n",
    "    def balancecheck(self):\n",
    "        return self.__balance\n",
    "    def interestamount(self):\n",
    "        return self.__balance*(self.__interest/100)"
   ]
  },
  {
   "cell_type": "code",
   "execution_count": 84,
   "id": "c6373276",
   "metadata": {},
   "outputs": [],
   "source": [
    "p1=bankaccount(5000,5)"
   ]
  },
  {
   "cell_type": "code",
   "execution_count": 85,
   "id": "c6f72818",
   "metadata": {},
   "outputs": [
    {
     "data": {
      "text/plain": [
       "5000"
      ]
     },
     "execution_count": 85,
     "metadata": {},
     "output_type": "execute_result"
    }
   ],
   "source": [
    "p1.balancecheck()"
   ]
  },
  {
   "cell_type": "code",
   "execution_count": 86,
   "id": "2c189ba6",
   "metadata": {},
   "outputs": [
    {
     "name": "stdout",
     "output_type": "stream",
     "text": [
      "Deposited Sucessfully\n"
     ]
    }
   ],
   "source": [
    "p1.deposit(2000)"
   ]
  },
  {
   "cell_type": "code",
   "execution_count": 87,
   "id": "1899121f",
   "metadata": {},
   "outputs": [
    {
     "data": {
      "text/plain": [
       "7000"
      ]
     },
     "execution_count": 87,
     "metadata": {},
     "output_type": "execute_result"
    }
   ],
   "source": [
    "p1.balancecheck()"
   ]
  },
  {
   "cell_type": "code",
   "execution_count": 88,
   "id": "00b4e91a",
   "metadata": {},
   "outputs": [
    {
     "name": "stdout",
     "output_type": "stream",
     "text": [
      "Transcation sucessfully\n"
     ]
    }
   ],
   "source": [
    "p1.withdrawl(1000)"
   ]
  },
  {
   "cell_type": "code",
   "execution_count": 89,
   "id": "dc9aba4e",
   "metadata": {},
   "outputs": [
    {
     "data": {
      "text/plain": [
       "6000"
      ]
     },
     "execution_count": 89,
     "metadata": {},
     "output_type": "execute_result"
    }
   ],
   "source": [
    "p1.balancecheck()"
   ]
  },
  {
   "cell_type": "code",
   "execution_count": 90,
   "id": "f5f76084",
   "metadata": {},
   "outputs": [
    {
     "data": {
      "text/plain": [
       "300.0"
      ]
     },
     "execution_count": 90,
     "metadata": {},
     "output_type": "execute_result"
    }
   ],
   "source": [
    "p1.interestamount()"
   ]
  },
  {
   "cell_type": "markdown",
   "id": "5189d98f",
   "metadata": {},
   "source": [
    "#Q4"
   ]
  },
  {
   "cell_type": "code",
   "execution_count": 100,
   "id": "b1f87d18",
   "metadata": {},
   "outputs": [],
   "source": [
    "class animal:\n",
    "    def __init__(self,name,species):\n",
    "        self.name=name\n",
    "        self.species=species\n",
    "    def say(self):\n",
    "        print(f\"my name is {self.name} and i am a {self.species}\")"
   ]
  },
  {
   "cell_type": "code",
   "execution_count": 94,
   "id": "c51c7f8e",
   "metadata": {},
   "outputs": [],
   "source": [
    "a=animal(\"tommy\",\"dog\")"
   ]
  },
  {
   "cell_type": "code",
   "execution_count": 95,
   "id": "4f618293",
   "metadata": {},
   "outputs": [
    {
     "data": {
      "text/plain": [
       "'tommy'"
      ]
     },
     "execution_count": 95,
     "metadata": {},
     "output_type": "execute_result"
    }
   ],
   "source": [
    "a.name"
   ]
  },
  {
   "cell_type": "code",
   "execution_count": 96,
   "id": "59fe023a",
   "metadata": {},
   "outputs": [
    {
     "data": {
      "text/plain": [
       "'dog'"
      ]
     },
     "execution_count": 96,
     "metadata": {},
     "output_type": "execute_result"
    }
   ],
   "source": [
    "a.species"
   ]
  },
  {
   "cell_type": "code",
   "execution_count": 97,
   "id": "7e643bf9",
   "metadata": {},
   "outputs": [
    {
     "name": "stdout",
     "output_type": "stream",
     "text": [
      "my name is tommy and i am a dog\n"
     ]
    }
   ],
   "source": [
    "a.say()"
   ]
  },
  {
   "cell_type": "code",
   "execution_count": 117,
   "id": "33851eb0",
   "metadata": {},
   "outputs": [],
   "source": [
    "class dog(animal):\n",
    "    def __init__(self,name,species,breed,owner):\n",
    "        super().__init__(name,species)\n",
    "        self.__breed=breed\n",
    "        self.__owner=owner\n",
    "    def breedinfo(self):\n",
    "        print(f\"my breed is {self.__breed}\")\n",
    "    def ownersay(self):\n",
    "        print(f\"my owner is {self.__owner} he is a very good man\")"
   ]
  },
  {
   "cell_type": "code",
   "execution_count": 118,
   "id": "448654a3",
   "metadata": {},
   "outputs": [],
   "source": [
    "d1=dog(\"tommy\",\"dog\",\"siberian\",\"devvrat\")"
   ]
  },
  {
   "cell_type": "code",
   "execution_count": 119,
   "id": "d9d98e23",
   "metadata": {},
   "outputs": [
    {
     "name": "stdout",
     "output_type": "stream",
     "text": [
      "my breed is siberian\n"
     ]
    }
   ],
   "source": [
    "d1.breedinfo()"
   ]
  },
  {
   "cell_type": "code",
   "execution_count": 120,
   "id": "d8523f51",
   "metadata": {},
   "outputs": [
    {
     "data": {
      "text/plain": [
       "'tommy'"
      ]
     },
     "execution_count": 120,
     "metadata": {},
     "output_type": "execute_result"
    }
   ],
   "source": [
    "d1.name"
   ]
  },
  {
   "cell_type": "code",
   "execution_count": 121,
   "id": "7c506124",
   "metadata": {},
   "outputs": [
    {
     "name": "stdout",
     "output_type": "stream",
     "text": [
      "my name is tommy and i am a dog\n"
     ]
    }
   ],
   "source": [
    "d1.say()"
   ]
  },
  {
   "cell_type": "code",
   "execution_count": 122,
   "id": "63bb7549",
   "metadata": {},
   "outputs": [
    {
     "name": "stdout",
     "output_type": "stream",
     "text": [
      "my owner is devvrat he is a very good man\n"
     ]
    }
   ],
   "source": [
    "d1.ownersay()"
   ]
  },
  {
   "cell_type": "code",
   "execution_count": 125,
   "id": "4f9182c9",
   "metadata": {},
   "outputs": [],
   "source": [
    "class car:\n",
    "    def __init__(self,make,model,year):\n",
    "        self.make=make\n",
    "        self.model=model\n",
    "        self.year=year\n",
    "    def info(self):\n",
    "        print(f\"i am made by {self.make} and my model is {self.model} in the year {self.year}\")"
   ]
  },
  {
   "cell_type": "code",
   "execution_count": 126,
   "id": "e7aaf328",
   "metadata": {},
   "outputs": [],
   "source": [
    "c1=car(\"tata\",\"xuv\",2014)\n"
   ]
  },
  {
   "cell_type": "code",
   "execution_count": 127,
   "id": "98ac0d24",
   "metadata": {},
   "outputs": [
    {
     "name": "stdout",
     "output_type": "stream",
     "text": [
      "i am made by tata and my model is xuv in the year 2014\n"
     ]
    }
   ],
   "source": [
    "c1.info()"
   ]
  },
  {
   "cell_type": "code",
   "execution_count": 128,
   "id": "d1bbddc1",
   "metadata": {},
   "outputs": [
    {
     "data": {
      "text/plain": [
       "'tata'"
      ]
     },
     "execution_count": 128,
     "metadata": {},
     "output_type": "execute_result"
    }
   ],
   "source": [
    "c1.make"
   ]
  },
  {
   "cell_type": "code",
   "execution_count": 129,
   "id": "9c15c6ca",
   "metadata": {},
   "outputs": [
    {
     "data": {
      "text/plain": [
       "'xuv'"
      ]
     },
     "execution_count": 129,
     "metadata": {},
     "output_type": "execute_result"
    }
   ],
   "source": [
    "c1.model"
   ]
  },
  {
   "cell_type": "code",
   "execution_count": 130,
   "id": "739b7717",
   "metadata": {},
   "outputs": [
    {
     "data": {
      "text/plain": [
       "2014"
      ]
     },
     "execution_count": 130,
     "metadata": {},
     "output_type": "execute_result"
    }
   ],
   "source": [
    "c1.year"
   ]
  },
  {
   "cell_type": "code",
   "execution_count": 137,
   "id": "bd488751",
   "metadata": {},
   "outputs": [],
   "source": [
    "class electriccar(car):\n",
    "    def __init__(self,make,model,year,batterysize,ranger):\n",
    "        super().__init__(make,model,year)\n",
    "        self.batterysize=batterysize\n",
    "        self.range=ranger\n",
    "    def rangeinfo(self):\n",
    "        print(f\"my battery size is {self.batterysize} which gives a range of {self.range} km\")"
   ]
  },
  {
   "cell_type": "code",
   "execution_count": 138,
   "id": "e47751f0",
   "metadata": {},
   "outputs": [],
   "source": [
    "e1=electriccar(\"tata\",\"xuv\",2014,\"3500w\",400)"
   ]
  },
  {
   "cell_type": "code",
   "execution_count": 139,
   "id": "2f1cc744",
   "metadata": {},
   "outputs": [
    {
     "data": {
      "text/plain": [
       "'3500w'"
      ]
     },
     "execution_count": 139,
     "metadata": {},
     "output_type": "execute_result"
    }
   ],
   "source": [
    "e1.batterysize"
   ]
  },
  {
   "cell_type": "code",
   "execution_count": 140,
   "id": "575825d4",
   "metadata": {},
   "outputs": [
    {
     "name": "stdout",
     "output_type": "stream",
     "text": [
      "my battery size is 3500w which gives a range of 400 km\n"
     ]
    }
   ],
   "source": [
    "e1.rangeinfo()"
   ]
  },
  {
   "cell_type": "markdown",
   "id": "dff1d9b2",
   "metadata": {},
   "source": [
    "#Q6"
   ]
  },
  {
   "cell_type": "code",
   "execution_count": 141,
   "id": "a36172a7",
   "metadata": {},
   "outputs": [],
   "source": [
    "class student:\n",
    "    def __init__(self,name,id_):\n",
    "        self.name=name\n",
    "        self.id=id_\n",
    "    def sudentinfo(self):\n",
    "        print(f\"my name is {self.name} and here is my id {self.id}\")\n",
    "        "
   ]
  },
  {
   "cell_type": "code",
   "execution_count": 142,
   "id": "63d12588",
   "metadata": {},
   "outputs": [],
   "source": [
    "s1=student(\"devvrat\",\"hawpd3625p\")"
   ]
  },
  {
   "cell_type": "code",
   "execution_count": 143,
   "id": "66aff550",
   "metadata": {},
   "outputs": [
    {
     "name": "stdout",
     "output_type": "stream",
     "text": [
      "my name is devvrat and here is my id hawpd3625p\n"
     ]
    }
   ],
   "source": [
    "s1.sudentinfo()"
   ]
  },
  {
   "cell_type": "code",
   "execution_count": 153,
   "id": "d23e4cd6",
   "metadata": {},
   "outputs": [],
   "source": [
    "class graduatestudent(student):\n",
    "    def __init__(self,name,id_,advisor,researcharea):\n",
    "        super().__init__(name,id_)\n",
    "        self.advisor=advisor\n",
    "        self.researcharea=researcharea\n",
    "    def researchinfo(self):\n",
    "        print(f\"my guide is {self.advisor} and area of research is {self.researcharea}\")"
   ]
  },
  {
   "cell_type": "code",
   "execution_count": 154,
   "id": "0d21a139",
   "metadata": {},
   "outputs": [],
   "source": [
    "g1=graduatestudent(\"devvrat\",\"hawpd3625p\",\"sudhkumar\",\"Nanomaterials\")"
   ]
  },
  {
   "cell_type": "code",
   "execution_count": 155,
   "id": "95f69110",
   "metadata": {},
   "outputs": [
    {
     "name": "stdout",
     "output_type": "stream",
     "text": [
      "my name is devvrat and here is my id hawpd3625p\n"
     ]
    }
   ],
   "source": [
    "g1.sudentinfo()"
   ]
  },
  {
   "cell_type": "code",
   "execution_count": 156,
   "id": "d1ea8592",
   "metadata": {},
   "outputs": [
    {
     "name": "stdout",
     "output_type": "stream",
     "text": [
      "my guide is sudhkumar and area of research is Nanomaterials\n"
     ]
    }
   ],
   "source": [
    "g1.researchinfo()"
   ]
  },
  {
   "cell_type": "markdown",
   "id": "0ab1aa02",
   "metadata": {},
   "source": [
    "#Q7"
   ]
  },
  {
   "cell_type": "code",
   "execution_count": 159,
   "id": "15df93e4",
   "metadata": {},
   "outputs": [],
   "source": [
    "class shape:\n",
    "    def __init__(self,name):\n",
    "        self.name=name\n",
    "    def area(self):\n",
    "        pass\n",
    "    def perimeter(self):\n",
    "        pass"
   ]
  },
  {
   "cell_type": "code",
   "execution_count": 183,
   "id": "8c9ddf35",
   "metadata": {},
   "outputs": [],
   "source": [
    "class rectangle(shape):\n",
    "    def __init__(self,length,breadth):\n",
    "        self.length=length\n",
    "        self.breadth=breadth\n",
    "    def area(self):\n",
    "        return self.length*self.breadth\n",
    "    def perimeter(self):\n",
    "        return 2*(self.length+self.breadth)\n",
    "class circle(shape):\n",
    "    import math\n",
    "    def __init__(self,radius):\n",
    "        self.radius=radius\n",
    "    def area(self):\n",
    "        return math.pi*(self.radius**2)\n",
    "    def perimeter(self):\n",
    "        return 2*math.pi*self.radius\n",
    "class triangle(shape):\n",
    "    def __init__(self,base,height):\n",
    "        self.base=base\n",
    "        self.height=height\n",
    "    def area(self):\n",
    "        return 0.5*self.base*self.height"
   ]
  },
  {
   "cell_type": "code",
   "execution_count": 184,
   "id": "bcd11ecd",
   "metadata": {},
   "outputs": [],
   "source": [
    "r=rectangle(5,2)"
   ]
  },
  {
   "cell_type": "code",
   "execution_count": 185,
   "id": "d68d0e7d",
   "metadata": {},
   "outputs": [
    {
     "data": {
      "text/plain": [
       "10"
      ]
     },
     "execution_count": 185,
     "metadata": {},
     "output_type": "execute_result"
    }
   ],
   "source": [
    "r.area()"
   ]
  },
  {
   "cell_type": "code",
   "execution_count": 186,
   "id": "0f148d36",
   "metadata": {},
   "outputs": [
    {
     "data": {
      "text/plain": [
       "14"
      ]
     },
     "execution_count": 186,
     "metadata": {},
     "output_type": "execute_result"
    }
   ],
   "source": [
    "r.perimeter()"
   ]
  },
  {
   "cell_type": "code",
   "execution_count": 187,
   "id": "997129e0",
   "metadata": {},
   "outputs": [],
   "source": [
    "c1=circle(3)"
   ]
  },
  {
   "cell_type": "code",
   "execution_count": 188,
   "id": "1d950482",
   "metadata": {},
   "outputs": [
    {
     "data": {
      "text/plain": [
       "28.274333882308138"
      ]
     },
     "execution_count": 188,
     "metadata": {},
     "output_type": "execute_result"
    }
   ],
   "source": [
    "c1.area()"
   ]
  },
  {
   "cell_type": "code",
   "execution_count": 189,
   "id": "38de9ce2",
   "metadata": {},
   "outputs": [
    {
     "data": {
      "text/plain": [
       "18.84955592153876"
      ]
     },
     "execution_count": 189,
     "metadata": {},
     "output_type": "execute_result"
    }
   ],
   "source": [
    "c1.perimeter()"
   ]
  },
  {
   "cell_type": "code",
   "execution_count": 191,
   "id": "fbb7436a",
   "metadata": {},
   "outputs": [],
   "source": [
    "t1=triangle(5,2)"
   ]
  },
  {
   "cell_type": "code",
   "execution_count": 193,
   "id": "a6291627",
   "metadata": {},
   "outputs": [
    {
     "data": {
      "text/plain": [
       "5.0"
      ]
     },
     "execution_count": 193,
     "metadata": {},
     "output_type": "execute_result"
    }
   ],
   "source": [
    "t1.area()"
   ]
  },
  {
   "cell_type": "code",
   "execution_count": 197,
   "id": "50fc7b62",
   "metadata": {},
   "outputs": [],
   "source": [
    "class book:\n",
    "    def __init__(self,title,author,publisher):\n",
    "        self.title=title\n",
    "        self.author=author\n",
    "        self.publisher=publisher\n",
    "        "
   ]
  },
  {
   "cell_type": "code",
   "execution_count": 198,
   "id": "0250dfbb",
   "metadata": {},
   "outputs": [],
   "source": [
    "class ebook(book):\n",
    "    def __init__(self,title,author,publisher,fileformat,filesize):\n",
    "        super().__init__(title,author,publisher)\n",
    "        self.fileformat=fileformat\n",
    "        self.filesize=filesize\n",
    "    def properties(self):\n",
    "        print(f\"file format is {self.fileformat} and filesize is {self.filesize}\")"
   ]
  },
  {
   "cell_type": "code",
   "execution_count": 199,
   "id": "48657968",
   "metadata": {},
   "outputs": [],
   "source": [
    "e1=ebook(\"physics\",\"hcverma\",\"sundar\",\"pdf\",\"500mb\")"
   ]
  },
  {
   "cell_type": "code",
   "execution_count": 200,
   "id": "7da3d723",
   "metadata": {},
   "outputs": [
    {
     "data": {
      "text/plain": [
       "'hcverma'"
      ]
     },
     "execution_count": 200,
     "metadata": {},
     "output_type": "execute_result"
    }
   ],
   "source": [
    "e1.author"
   ]
  },
  {
   "cell_type": "code",
   "execution_count": 201,
   "id": "e22df24b",
   "metadata": {},
   "outputs": [
    {
     "name": "stdout",
     "output_type": "stream",
     "text": [
      "file format is pdf and filesize is 500mb\n"
     ]
    }
   ],
   "source": [
    "e1.properties()"
   ]
  },
  {
   "cell_type": "code",
   "execution_count": 217,
   "id": "94bb5ec1",
   "metadata": {},
   "outputs": [],
   "source": [
    "class bank:\n",
    "    def __init__(self,name,accounts,balance):\n",
    "        self.__name=name\n",
    "        self.__accounts=accounts\n",
    "        self.__balance=balance\n",
    "    def deposit(self,amount):\n",
    "        self.__balance=self.__balance+amount\n",
    "        print(\"Deposited Sucessfully\")\n",
    "    def withdrawl(self,amount):\n",
    "        if amount<=self.__balance:\n",
    "            self.__balance=self.__balance-amount\n",
    "            print(\"Transaction sucessful\")\n",
    "        else:\n",
    "            print(\"insufficient funds\")\n",
    "    def balance(self):\n",
    "        return self.__balance\n",
    "    def holder(self):\n",
    "        return self.__name\n",
    "    def accounttype(self):\n",
    "        return self.__accounts"
   ]
  },
  {
   "cell_type": "code",
   "execution_count": 218,
   "id": "6ed49da6",
   "metadata": {},
   "outputs": [],
   "source": [
    "b1=bank(\"devvrat\",\"saving\",50000)"
   ]
  },
  {
   "cell_type": "code",
   "execution_count": 219,
   "id": "bb9d7616",
   "metadata": {},
   "outputs": [
    {
     "data": {
      "text/plain": [
       "'saving'"
      ]
     },
     "execution_count": 219,
     "metadata": {},
     "output_type": "execute_result"
    }
   ],
   "source": [
    "b1.accounttype()"
   ]
  },
  {
   "cell_type": "code",
   "execution_count": 220,
   "id": "c4626883",
   "metadata": {},
   "outputs": [
    {
     "data": {
      "text/plain": [
       "50000"
      ]
     },
     "execution_count": 220,
     "metadata": {},
     "output_type": "execute_result"
    }
   ],
   "source": [
    "b1.balance()"
   ]
  },
  {
   "cell_type": "code",
   "execution_count": 221,
   "id": "7f95cd1a",
   "metadata": {},
   "outputs": [
    {
     "name": "stdout",
     "output_type": "stream",
     "text": [
      "Deposited Sucessfully\n"
     ]
    }
   ],
   "source": [
    "b1.deposit(20000)"
   ]
  },
  {
   "cell_type": "code",
   "execution_count": 222,
   "id": "066787db",
   "metadata": {},
   "outputs": [
    {
     "name": "stdout",
     "output_type": "stream",
     "text": [
      "Transaction sucessful\n"
     ]
    }
   ],
   "source": [
    "b1.withdrawl(30000)"
   ]
  },
  {
   "cell_type": "code",
   "execution_count": 223,
   "id": "1a798de9",
   "metadata": {},
   "outputs": [
    {
     "data": {
      "text/plain": [
       "40000"
      ]
     },
     "execution_count": 223,
     "metadata": {},
     "output_type": "execute_result"
    }
   ],
   "source": [
    "b1.balance()"
   ]
  },
  {
   "cell_type": "code",
   "execution_count": null,
   "id": "e9964296",
   "metadata": {},
   "outputs": [],
   "source": []
  }
 ],
 "metadata": {
  "kernelspec": {
   "display_name": "Python 3 (ipykernel)",
   "language": "python",
   "name": "python3"
  },
  "language_info": {
   "codemirror_mode": {
    "name": "ipython",
    "version": 3
   },
   "file_extension": ".py",
   "mimetype": "text/x-python",
   "name": "python",
   "nbconvert_exporter": "python",
   "pygments_lexer": "ipython3",
   "version": "3.11.3"
  }
 },
 "nbformat": 4,
 "nbformat_minor": 5
}
